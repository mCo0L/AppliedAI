{
 "cells": [
  {
   "cell_type": "code",
   "execution_count": 0,
   "id": "2958346fcddeaa1b",
   "metadata": {
    "collapsed": false
   },
   "outputs": [],
   "source": [
    "import numpy as np"
   ]
  },
  {
   "cell_type": "markdown",
   "source": [
    "# Operations in Numpy"
   ],
   "metadata": {
    "collapsed": false
   },
   "id": "f625f76be1c10b3a"
  },
  {
   "cell_type": "code",
   "execution_count": 3,
   "outputs": [],
   "source": [
    "a = np.array([1, 2, 3, 4])"
   ],
   "metadata": {
    "collapsed": true,
    "ExecuteTime": {
     "end_time": "2023-12-15T15:05:09.010038Z",
     "start_time": "2023-12-15T15:05:09.007540Z"
    }
   },
   "id": "initial_id"
  },
  {
   "cell_type": "code",
   "execution_count": 4,
   "outputs": [
    {
     "data": {
      "text/plain": "array([2, 3, 4, 5])"
     },
     "execution_count": 4,
     "metadata": {},
     "output_type": "execute_result"
    }
   ],
   "source": [
    "a + 1"
   ],
   "metadata": {
    "collapsed": false,
    "ExecuteTime": {
     "end_time": "2023-12-15T15:05:14.620707Z",
     "start_time": "2023-12-15T15:05:14.608878Z"
    }
   },
   "id": "1c4c75f942e0e08c"
  },
  {
   "cell_type": "code",
   "execution_count": 5,
   "outputs": [
    {
     "data": {
      "text/plain": "array([ 1,  4,  9, 16])"
     },
     "execution_count": 5,
     "metadata": {},
     "output_type": "execute_result"
    }
   ],
   "source": [
    "a ** 2"
   ],
   "metadata": {
    "collapsed": false,
    "ExecuteTime": {
     "end_time": "2023-12-15T15:05:30.488409Z",
     "start_time": "2023-12-15T15:05:30.483109Z"
    }
   },
   "id": "5336bfc3a0bed40"
  },
  {
   "cell_type": "code",
   "execution_count": 12,
   "outputs": [],
   "source": [
    "b = np.ones(4) - a"
   ],
   "metadata": {
    "collapsed": false,
    "ExecuteTime": {
     "end_time": "2023-12-15T15:16:10.864123Z",
     "start_time": "2023-12-15T15:16:10.861131Z"
    }
   },
   "id": "2bfba752b8c6b491"
  },
  {
   "cell_type": "code",
   "execution_count": 13,
   "outputs": [
    {
     "data": {
      "text/plain": "array([ 0., -1., -2., -3.])"
     },
     "execution_count": 13,
     "metadata": {},
     "output_type": "execute_result"
    }
   ],
   "source": [
    "b"
   ],
   "metadata": {
    "collapsed": false,
    "ExecuteTime": {
     "end_time": "2023-12-15T15:16:13.819213Z",
     "start_time": "2023-12-15T15:16:13.816117Z"
    }
   },
   "id": "fddf8ba229a31083"
  },
  {
   "cell_type": "code",
   "execution_count": 14,
   "outputs": [
    {
     "data": {
      "text/plain": "array([  0.,  -2.,  -6., -12.])"
     },
     "execution_count": 14,
     "metadata": {},
     "output_type": "execute_result"
    }
   ],
   "source": [
    "a * b"
   ],
   "metadata": {
    "collapsed": false,
    "ExecuteTime": {
     "end_time": "2023-12-15T15:16:20.637926Z",
     "start_time": "2023-12-15T15:16:20.633103Z"
    }
   },
   "id": "a94b7923b9308b05"
  },
  {
   "cell_type": "code",
   "execution_count": 16,
   "outputs": [
    {
     "data": {
      "text/plain": "30"
     },
     "execution_count": 16,
     "metadata": {},
     "output_type": "execute_result"
    }
   ],
   "source": [
    "a.dot(a)"
   ],
   "metadata": {
    "collapsed": false,
    "ExecuteTime": {
     "end_time": "2023-12-15T15:16:53.937880Z",
     "start_time": "2023-12-15T15:16:53.930480Z"
    }
   },
   "id": "5f53bd014beda6b9"
  },
  {
   "cell_type": "code",
   "execution_count": 17,
   "outputs": [
    {
     "data": {
      "text/plain": "array([False, False, False, False])"
     },
     "execution_count": 17,
     "metadata": {},
     "output_type": "execute_result"
    }
   ],
   "source": [
    "a == b"
   ],
   "metadata": {
    "collapsed": false,
    "ExecuteTime": {
     "end_time": "2023-12-15T15:17:19.929649Z",
     "start_time": "2023-12-15T15:17:19.925359Z"
    }
   },
   "id": "47d953a2d5e0245e"
  },
  {
   "cell_type": "code",
   "execution_count": 18,
   "outputs": [
    {
     "data": {
      "text/plain": "array([False, False, False, False])"
     },
     "execution_count": 18,
     "metadata": {},
     "output_type": "execute_result"
    }
   ],
   "source": [
    "a < b"
   ],
   "metadata": {
    "collapsed": false,
    "ExecuteTime": {
     "end_time": "2023-12-15T15:17:24.846725Z",
     "start_time": "2023-12-15T15:17:24.842707Z"
    }
   },
   "id": "ad67da7da9d64e33"
  },
  {
   "cell_type": "code",
   "execution_count": 19,
   "outputs": [
    {
     "data": {
      "text/plain": "False"
     },
     "execution_count": 19,
     "metadata": {},
     "output_type": "execute_result"
    }
   ],
   "source": [
    "np.array_equal(a, b)"
   ],
   "metadata": {
    "collapsed": false,
    "ExecuteTime": {
     "end_time": "2023-12-15T15:17:46.714466Z",
     "start_time": "2023-12-15T15:17:46.707621Z"
    }
   },
   "id": "50b50922ca025718"
  },
  {
   "cell_type": "code",
   "execution_count": 22,
   "outputs": [],
   "source": [
    "a = np.array([1, 1, 0, 0])\n",
    "b = np.array([1, 0, 1, 0])"
   ],
   "metadata": {
    "collapsed": false,
    "ExecuteTime": {
     "end_time": "2023-12-15T15:21:09.864383Z",
     "start_time": "2023-12-15T15:21:09.860823Z"
    }
   },
   "id": "d15c089736f37bc3"
  },
  {
   "cell_type": "code",
   "execution_count": 23,
   "outputs": [
    {
     "data": {
      "text/plain": "array([ True,  True,  True, False])"
     },
     "execution_count": 23,
     "metadata": {},
     "output_type": "execute_result"
    }
   ],
   "source": [
    "np.logical_or(a, b)"
   ],
   "metadata": {
    "collapsed": false,
    "ExecuteTime": {
     "end_time": "2023-12-15T15:21:29.199382Z",
     "start_time": "2023-12-15T15:21:29.194343Z"
    }
   },
   "id": "ef919e26b1ad0a74"
  },
  {
   "cell_type": "code",
   "execution_count": 24,
   "outputs": [],
   "source": [
    "a = np.arange(5)"
   ],
   "metadata": {
    "collapsed": false,
    "ExecuteTime": {
     "end_time": "2023-12-15T15:22:01.118979Z",
     "start_time": "2023-12-15T15:22:01.111316Z"
    }
   },
   "id": "93624b65f97cac2f"
  },
  {
   "cell_type": "code",
   "execution_count": 25,
   "outputs": [
    {
     "data": {
      "text/plain": "array([ 0.        ,  0.84147098,  0.90929743,  0.14112001, -0.7568025 ])"
     },
     "execution_count": 25,
     "metadata": {},
     "output_type": "execute_result"
    }
   ],
   "source": [
    "np.sin(a)"
   ],
   "metadata": {
    "collapsed": false,
    "ExecuteTime": {
     "end_time": "2023-12-15T15:22:08.422598Z",
     "start_time": "2023-12-15T15:22:08.416788Z"
    }
   },
   "id": "b982a68edabe678b"
  },
  {
   "cell_type": "code",
   "execution_count": 26,
   "outputs": [
    {
     "name": "stderr",
     "output_type": "stream",
     "text": [
      "/var/folders/k4/jw5sfvg95dxgpf3fwyt483j00000gn/T/ipykernel_14807/2987416308.py:1: RuntimeWarning: divide by zero encountered in log\n",
      "  np.log(a)\n"
     ]
    },
    {
     "data": {
      "text/plain": "array([      -inf, 0.        , 0.69314718, 1.09861229, 1.38629436])"
     },
     "execution_count": 26,
     "metadata": {},
     "output_type": "execute_result"
    }
   ],
   "source": [
    "np.log(a)"
   ],
   "metadata": {
    "collapsed": false,
    "ExecuteTime": {
     "end_time": "2023-12-15T15:22:23.710199Z",
     "start_time": "2023-12-15T15:22:23.705146Z"
    }
   },
   "id": "be0ad5535b350bea"
  },
  {
   "cell_type": "code",
   "execution_count": 27,
   "outputs": [
    {
     "data": {
      "text/plain": "array([ 1.        ,  2.71828183,  7.3890561 , 20.08553692, 54.59815003])"
     },
     "execution_count": 27,
     "metadata": {},
     "output_type": "execute_result"
    }
   ],
   "source": [
    "np.exp(a)"
   ],
   "metadata": {
    "collapsed": false,
    "ExecuteTime": {
     "end_time": "2023-12-15T15:22:37.846626Z",
     "start_time": "2023-12-15T15:22:37.842790Z"
    }
   },
   "id": "e73904aadc828db5"
  },
  {
   "cell_type": "markdown",
   "source": [
    "## Simple Mismatch"
   ],
   "metadata": {
    "collapsed": false
   },
   "id": "a781ceac7d78b1fe"
  },
  {
   "cell_type": "code",
   "execution_count": 28,
   "outputs": [
    {
     "ename": "ValueError",
     "evalue": "operands could not be broadcast together with shapes (4,) (2,) ",
     "output_type": "error",
     "traceback": [
      "\u001B[0;31m---------------------------------------------------------------------------\u001B[0m",
      "\u001B[0;31mValueError\u001B[0m                                Traceback (most recent call last)",
      "Cell \u001B[0;32mIn[28], line 2\u001B[0m\n\u001B[1;32m      1\u001B[0m a \u001B[38;5;241m=\u001B[39m np\u001B[38;5;241m.\u001B[39marange(\u001B[38;5;241m4\u001B[39m)\n\u001B[0;32m----> 2\u001B[0m a \u001B[38;5;241m+\u001B[39m np\u001B[38;5;241m.\u001B[39marray([\u001B[38;5;241m1\u001B[39m, \u001B[38;5;241m2\u001B[39m])\n",
      "\u001B[0;31mValueError\u001B[0m: operands could not be broadcast together with shapes (4,) (2,) "
     ]
    }
   ],
   "source": [
    "a = np.arange(4)\n",
    "a + np.array([1, 2])"
   ],
   "metadata": {
    "collapsed": false,
    "ExecuteTime": {
     "end_time": "2023-12-15T15:24:24.997219Z",
     "start_time": "2023-12-15T15:24:24.988406Z"
    }
   },
   "id": "e0b65c89213b807a"
  },
  {
   "cell_type": "markdown",
   "source": [
    "## Basic Reductions"
   ],
   "metadata": {
    "collapsed": false
   },
   "id": "b096e8f0000ab85f"
  },
  {
   "cell_type": "code",
   "execution_count": 30,
   "outputs": [
    {
     "data": {
      "text/plain": "10"
     },
     "execution_count": 30,
     "metadata": {},
     "output_type": "execute_result"
    }
   ],
   "source": [
    "x = np.array([1,2,3,4])\n",
    "np.sum(x)"
   ],
   "metadata": {
    "collapsed": false,
    "ExecuteTime": {
     "end_time": "2023-12-15T15:25:45.884340Z",
     "start_time": "2023-12-15T15:25:45.880261Z"
    }
   },
   "id": "35cb9721ea095ee5"
  },
  {
   "cell_type": "code",
   "execution_count": 31,
   "outputs": [
    {
     "data": {
      "text/plain": "array([[1, 2],\n       [3, 4]])"
     },
     "execution_count": 31,
     "metadata": {},
     "output_type": "execute_result"
    }
   ],
   "source": [
    "x = np.array([[1,2], [3,4]])\n",
    "x"
   ],
   "metadata": {
    "collapsed": false,
    "ExecuteTime": {
     "end_time": "2023-12-15T15:26:14.729302Z",
     "start_time": "2023-12-15T15:26:14.725672Z"
    }
   },
   "id": "ce4c70663b33760b"
  },
  {
   "cell_type": "code",
   "execution_count": 33,
   "outputs": [
    {
     "data": {
      "text/plain": "array([4, 6])"
     },
     "execution_count": 33,
     "metadata": {},
     "output_type": "execute_result"
    }
   ],
   "source": [
    "x.sum(axis=0)"
   ],
   "metadata": {
    "collapsed": false,
    "ExecuteTime": {
     "end_time": "2023-12-15T15:26:32.883660Z",
     "start_time": "2023-12-15T15:26:32.878762Z"
    }
   },
   "id": "47be108f10fdadd8"
  },
  {
   "cell_type": "code",
   "execution_count": 34,
   "outputs": [
    {
     "data": {
      "text/plain": "array([3, 7])"
     },
     "execution_count": 34,
     "metadata": {},
     "output_type": "execute_result"
    }
   ],
   "source": [
    "x.sum(axis=1)"
   ],
   "metadata": {
    "collapsed": false,
    "ExecuteTime": {
     "end_time": "2023-12-15T15:26:54.217110Z",
     "start_time": "2023-12-15T15:26:54.213055Z"
    }
   },
   "id": "6e7b6e41f0e4f6ff"
  },
  {
   "cell_type": "markdown",
   "source": [
    "## Other Reductions"
   ],
   "metadata": {
    "collapsed": false
   },
   "id": "156eed4b3c530c16"
  },
  {
   "cell_type": "code",
   "execution_count": 36,
   "outputs": [],
   "source": [
    "x = np.array([1,2,3,4])"
   ],
   "metadata": {
    "collapsed": false,
    "ExecuteTime": {
     "end_time": "2023-12-15T15:28:17.061941Z",
     "start_time": "2023-12-15T15:28:17.058267Z"
    }
   },
   "id": "2e44580077567c65"
  },
  {
   "cell_type": "code",
   "execution_count": 41,
   "outputs": [
    {
     "data": {
      "text/plain": "1"
     },
     "execution_count": 41,
     "metadata": {},
     "output_type": "execute_result"
    }
   ],
   "source": [
    "x.min()"
   ],
   "metadata": {
    "collapsed": false,
    "ExecuteTime": {
     "end_time": "2023-12-15T15:28:53.628430Z",
     "start_time": "2023-12-15T15:28:53.624396Z"
    }
   },
   "id": "83d2018e20c803e1"
  },
  {
   "cell_type": "code",
   "execution_count": 42,
   "outputs": [
    {
     "data": {
      "text/plain": "0"
     },
     "execution_count": 42,
     "metadata": {},
     "output_type": "execute_result"
    }
   ],
   "source": [
    "x.argmin()"
   ],
   "metadata": {
    "collapsed": false,
    "ExecuteTime": {
     "end_time": "2023-12-15T15:28:56.839832Z",
     "start_time": "2023-12-15T15:28:56.834911Z"
    }
   },
   "id": "889a3fec87b21d75"
  },
  {
   "cell_type": "code",
   "execution_count": 43,
   "outputs": [
    {
     "data": {
      "text/plain": "4"
     },
     "execution_count": 43,
     "metadata": {},
     "output_type": "execute_result"
    }
   ],
   "source": [
    "x.max()"
   ],
   "metadata": {
    "collapsed": false,
    "ExecuteTime": {
     "end_time": "2023-12-15T15:29:09.320246Z",
     "start_time": "2023-12-15T15:29:09.316712Z"
    }
   },
   "id": "a0b62b1102faea9d"
  },
  {
   "cell_type": "code",
   "execution_count": 44,
   "outputs": [
    {
     "data": {
      "text/plain": "3"
     },
     "execution_count": 44,
     "metadata": {},
     "output_type": "execute_result"
    }
   ],
   "source": [
    "x.argmax()"
   ],
   "metadata": {
    "collapsed": false,
    "ExecuteTime": {
     "end_time": "2023-12-15T15:29:17.426984Z",
     "start_time": "2023-12-15T15:29:17.423040Z"
    }
   },
   "id": "f7e75970dba22864"
  },
  {
   "cell_type": "markdown",
   "source": [
    "## Logical Operations"
   ],
   "metadata": {
    "collapsed": false
   },
   "id": "6eeb8b72ca015abb"
  },
  {
   "cell_type": "code",
   "execution_count": 47,
   "outputs": [
    {
     "data": {
      "text/plain": "False"
     },
     "execution_count": 47,
     "metadata": {},
     "output_type": "execute_result"
    }
   ],
   "source": [
    "np.all([True, True, False, False])"
   ],
   "metadata": {
    "collapsed": false,
    "ExecuteTime": {
     "end_time": "2023-12-15T15:30:10.181847Z",
     "start_time": "2023-12-15T15:30:10.177423Z"
    }
   },
   "id": "8ddfd2c7ed7c507f"
  },
  {
   "cell_type": "code",
   "execution_count": 48,
   "outputs": [
    {
     "data": {
      "text/plain": "True"
     },
     "execution_count": 48,
     "metadata": {},
     "output_type": "execute_result"
    }
   ],
   "source": [
    "np.any([True, True, False, False])"
   ],
   "metadata": {
    "collapsed": false,
    "ExecuteTime": {
     "end_time": "2023-12-15T15:30:18.610294Z",
     "start_time": "2023-12-15T15:30:18.605572Z"
    }
   },
   "id": "dfc8faaca8c2024"
  },
  {
   "cell_type": "code",
   "execution_count": 54,
   "outputs": [
    {
     "data": {
      "text/plain": "False"
     },
     "execution_count": 54,
     "metadata": {},
     "output_type": "execute_result"
    }
   ],
   "source": [
    "a = np.zeros((50, 50))\n",
    "np.any( a != 0)"
   ],
   "metadata": {
    "collapsed": false,
    "ExecuteTime": {
     "end_time": "2023-12-15T15:31:22.348017Z",
     "start_time": "2023-12-15T15:31:22.341649Z"
    }
   },
   "id": "7b45a3901fdf3e86"
  },
  {
   "cell_type": "code",
   "execution_count": 55,
   "outputs": [
    {
     "data": {
      "text/plain": "True"
     },
     "execution_count": 55,
     "metadata": {},
     "output_type": "execute_result"
    }
   ],
   "source": [
    "np.all(a==a)"
   ],
   "metadata": {
    "collapsed": false,
    "ExecuteTime": {
     "end_time": "2023-12-15T15:31:41.406645Z",
     "start_time": "2023-12-15T15:31:41.398932Z"
    }
   },
   "id": "1be4ee1af7516fe5"
  },
  {
   "cell_type": "code",
   "execution_count": 56,
   "outputs": [
    {
     "data": {
      "text/plain": "True"
     },
     "execution_count": 56,
     "metadata": {},
     "output_type": "execute_result"
    }
   ],
   "source": [
    "a = np.array([1,2,3,2])\n",
    "b = np.array([2,2,3,2])\n",
    "c = np.array([6,4,4,5])\n",
    "((a<=b) & (b<=c)).all()"
   ],
   "metadata": {
    "collapsed": false,
    "ExecuteTime": {
     "end_time": "2023-12-15T15:32:41.531995Z",
     "start_time": "2023-12-15T15:32:41.525500Z"
    }
   },
   "id": "c96ec48ba7f432c6"
  },
  {
   "cell_type": "markdown",
   "source": [
    "## Statistics"
   ],
   "metadata": {
    "collapsed": false
   },
   "id": "6c0f80038fd8371a"
  },
  {
   "cell_type": "code",
   "execution_count": 57,
   "outputs": [
    {
     "data": {
      "text/plain": "1.75"
     },
     "execution_count": 57,
     "metadata": {},
     "output_type": "execute_result"
    }
   ],
   "source": [
    "x = np.array([1,2,3,1])\n",
    "y = np.array([[1,2,3], [5,6,1]])\n",
    "x.mean()"
   ],
   "metadata": {
    "collapsed": false,
    "ExecuteTime": {
     "end_time": "2023-12-15T15:34:20.960646Z",
     "start_time": "2023-12-15T15:34:20.956941Z"
    }
   },
   "id": "8b0abcd662368dbf"
  },
  {
   "cell_type": "code",
   "execution_count": 58,
   "outputs": [
    {
     "data": {
      "text/plain": "1.5"
     },
     "execution_count": 58,
     "metadata": {},
     "output_type": "execute_result"
    }
   ],
   "source": [
    "np.median(x)"
   ],
   "metadata": {
    "collapsed": false,
    "ExecuteTime": {
     "end_time": "2023-12-15T15:34:45.257472Z",
     "start_time": "2023-12-15T15:34:45.253392Z"
    }
   },
   "id": "2930f8a66671949c"
  },
  {
   "cell_type": "code",
   "execution_count": 61,
   "outputs": [
    {
     "data": {
      "text/plain": "array([3., 4., 2.])"
     },
     "execution_count": 61,
     "metadata": {},
     "output_type": "execute_result"
    }
   ],
   "source": [
    "np.median(y, axis=0)"
   ],
   "metadata": {
    "collapsed": false,
    "ExecuteTime": {
     "end_time": "2023-12-15T15:35:01.794693Z",
     "start_time": "2023-12-15T15:35:01.792072Z"
    }
   },
   "id": "38c40995a2b56a33"
  },
  {
   "cell_type": "code",
   "execution_count": 66,
   "outputs": [
    {
     "data": {
      "text/plain": "array([2., 5.])"
     },
     "execution_count": 66,
     "metadata": {},
     "output_type": "execute_result"
    }
   ],
   "source": [
    "np.median(y, axis=1)"
   ],
   "metadata": {
    "collapsed": false,
    "ExecuteTime": {
     "end_time": "2023-12-16T08:15:08.291515Z",
     "start_time": "2023-12-16T08:15:08.287640Z"
    }
   },
   "id": "5add2b3c15f09ece"
  },
  {
   "cell_type": "code",
   "execution_count": 67,
   "outputs": [
    {
     "data": {
      "text/plain": "0.82915619758885"
     },
     "execution_count": 67,
     "metadata": {},
     "output_type": "execute_result"
    }
   ],
   "source": [
    "x.std()"
   ],
   "metadata": {
    "collapsed": false,
    "ExecuteTime": {
     "end_time": "2023-12-16T08:15:32.395661Z",
     "start_time": "2023-12-16T08:15:32.392775Z"
    }
   },
   "id": "94df45c582902b92"
  },
  {
   "cell_type": "markdown",
   "source": [
    "## EXAMPLE"
   ],
   "metadata": {
    "collapsed": false
   },
   "id": "c4522f5723c59f8c"
  },
  {
   "cell_type": "code",
   "execution_count": 68,
   "outputs": [],
   "source": [
    "data = np.loadtxt('data/populations.txt')"
   ],
   "metadata": {
    "collapsed": false,
    "ExecuteTime": {
     "end_time": "2023-12-16T08:17:50.751376Z",
     "start_time": "2023-12-16T08:17:50.748600Z"
    }
   },
   "id": "ea33dcaef0cc4f7b"
  },
  {
   "cell_type": "code",
   "execution_count": 69,
   "outputs": [
    {
     "data": {
      "text/plain": "array([[ 1900., 30000.,  4000., 48300.],\n       [ 1901., 47200.,  6100., 48200.],\n       [ 1902., 70200.,  9800., 41500.],\n       [ 1903., 77400., 35200., 38200.],\n       [ 1904., 36300., 59400., 40600.],\n       [ 1905., 20600., 41700., 39800.],\n       [ 1906., 18100., 19000., 38600.],\n       [ 1907., 21400., 13000., 42300.],\n       [ 1908., 22000.,  8300., 44500.],\n       [ 1909., 25400.,  9100., 42100.],\n       [ 1910., 27100.,  7400., 46000.],\n       [ 1911., 40300.,  8000., 46800.],\n       [ 1912., 57000., 12300., 43800.],\n       [ 1913., 76600., 19500., 40900.],\n       [ 1914., 52300., 45700., 39400.],\n       [ 1915., 19500., 51100., 39000.],\n       [ 1916., 11200., 29700., 36700.],\n       [ 1917.,  7600., 15800., 41800.],\n       [ 1918., 14600.,  9700., 43300.],\n       [ 1919., 16200., 10100., 41300.],\n       [ 1920., 24700.,  8600., 47300.]])"
     },
     "execution_count": 69,
     "metadata": {},
     "output_type": "execute_result"
    }
   ],
   "source": [
    "data"
   ],
   "metadata": {
    "collapsed": false,
    "ExecuteTime": {
     "end_time": "2023-12-16T08:17:57.615423Z",
     "start_time": "2023-12-16T08:17:57.611676Z"
    }
   },
   "id": "da32d0f7228cebf"
  },
  {
   "cell_type": "code",
   "execution_count": 70,
   "outputs": [],
   "source": [
    "year, hares, lynxes, carrots = data.T"
   ],
   "metadata": {
    "collapsed": false,
    "ExecuteTime": {
     "end_time": "2023-12-16T08:19:05.731442Z",
     "start_time": "2023-12-16T08:19:05.727597Z"
    }
   },
   "id": "40314a4d3fb92b08"
  },
  {
   "cell_type": "code",
   "execution_count": 84,
   "outputs": [
    {
     "data": {
      "text/plain": "array([[30000.,  4000., 48300.],\n       [47200.,  6100., 48200.],\n       [70200.,  9800., 41500.],\n       [77400., 35200., 38200.],\n       [36300., 59400., 40600.],\n       [20600., 41700., 39800.],\n       [18100., 19000., 38600.],\n       [21400., 13000., 42300.],\n       [22000.,  8300., 44500.],\n       [25400.,  9100., 42100.],\n       [27100.,  7400., 46000.],\n       [40300.,  8000., 46800.],\n       [57000., 12300., 43800.],\n       [76600., 19500., 40900.],\n       [52300., 45700., 39400.],\n       [19500., 51100., 39000.],\n       [11200., 29700., 36700.],\n       [ 7600., 15800., 41800.],\n       [14600.,  9700., 43300.],\n       [16200., 10100., 41300.],\n       [24700.,  8600., 47300.]])"
     },
     "execution_count": 84,
     "metadata": {},
     "output_type": "execute_result"
    }
   ],
   "source": [
    "populations = data[:, 1:]\n",
    "populations"
   ],
   "metadata": {
    "collapsed": false,
    "ExecuteTime": {
     "end_time": "2023-12-16T12:25:46.175385Z",
     "start_time": "2023-12-16T12:25:46.171173Z"
    }
   },
   "id": "3bb210ed5edda37e"
  },
  {
   "cell_type": "code",
   "execution_count": 82,
   "outputs": [
    {
     "data": {
      "text/plain": "array([18176.23601177, 19614.67704439, 24668.33327703, 19225.21492439,\n       10030.73055941,  9530.41913501,  9458.79954798, 12319.18106946,\n       14923.434219  , 13472.52347888, 15759.51211879, 16967.22330456,\n       18751.53327064, 23553.39088586,  5266.87763291, 13018.02169644,\n       10757.4263754 , 14578.82787546, 14819.88154099, 13501.68713737,\n       15873.31793363])"
     },
     "execution_count": 82,
     "metadata": {},
     "output_type": "execute_result"
    }
   ],
   "source": [
    "populations.std(axis=1)"
   ],
   "metadata": {
    "collapsed": false,
    "ExecuteTime": {
     "end_time": "2023-12-16T12:15:40.238107Z",
     "start_time": "2023-12-16T12:15:40.235338Z"
    }
   },
   "id": "9cb55a711d341d22"
  },
  {
   "cell_type": "code",
   "execution_count": 86,
   "outputs": [
    {
     "data": {
      "text/plain": "array([2, 2, 0, 0, 1, 1, 2, 2, 2, 2, 2, 2, 0, 0, 0, 1, 2, 2, 2, 2, 2])"
     },
     "execution_count": 86,
     "metadata": {},
     "output_type": "execute_result"
    }
   ],
   "source": [
    "np.argmax(populations, axis=1)"
   ],
   "metadata": {
    "collapsed": false,
    "ExecuteTime": {
     "end_time": "2023-12-16T12:26:11.224797Z",
     "start_time": "2023-12-16T12:26:11.222106Z"
    }
   },
   "id": "9ce2656cd8d9952e"
  },
  {
   "cell_type": "markdown",
   "source": [
    "## Broadcasting"
   ],
   "metadata": {
    "collapsed": false
   },
   "id": "80630d74e0821f81"
  },
  {
   "cell_type": "code",
   "execution_count": 92,
   "outputs": [
    {
     "name": "stdout",
     "output_type": "stream",
     "text": [
      "[0 1 2]\n",
      "[[ 0]\n",
      " [10]\n",
      " [20]\n",
      " [30]]\n"
     ]
    }
   ],
   "source": [
    "a = np.array([0,1,2])\n",
    "b = np.array([[0], [10], [20], [30]])\n",
    "\n",
    "print(a)\n",
    "print(b)"
   ],
   "metadata": {
    "collapsed": false,
    "ExecuteTime": {
     "end_time": "2023-12-16T12:31:57.184229Z",
     "start_time": "2023-12-16T12:31:57.180235Z"
    }
   },
   "id": "92b529430f46358a"
  },
  {
   "cell_type": "code",
   "execution_count": null,
   "outputs": [],
   "source": [],
   "metadata": {
    "collapsed": false
   },
   "id": "85c7b3a901c024de"
  },
  {
   "cell_type": "code",
   "execution_count": 94,
   "outputs": [
    {
     "data": {
      "text/plain": "array([[ 0,  1,  2],\n       [10, 11, 12],\n       [20, 21, 22],\n       [30, 31, 32]])"
     },
     "execution_count": 94,
     "metadata": {},
     "output_type": "execute_result"
    }
   ],
   "source": [
    "a + b"
   ],
   "metadata": {
    "collapsed": false,
    "ExecuteTime": {
     "end_time": "2023-12-16T12:35:06.638184Z",
     "start_time": "2023-12-16T12:35:06.614913Z"
    }
   },
   "id": "44f88312a2abfe7d"
  },
  {
   "cell_type": "code",
   "execution_count": 96,
   "outputs": [
    {
     "data": {
      "text/plain": "array([[ 0, 10, 20, 30],\n       [ 1, 11, 21, 31],\n       [ 2, 12, 22, 32]])"
     },
     "execution_count": 96,
     "metadata": {},
     "output_type": "execute_result"
    }
   ],
   "source": [
    "(a + b).T"
   ],
   "metadata": {
    "collapsed": false,
    "ExecuteTime": {
     "end_time": "2023-12-16T12:35:26.790044Z",
     "start_time": "2023-12-16T12:35:26.786310Z"
    }
   },
   "id": "a8fd358a70b3d583"
  },
  {
   "cell_type": "code",
   "execution_count": 97,
   "outputs": [
    {
     "data": {
      "text/plain": "array([ 0, 10, 20, 30])"
     },
     "execution_count": 97,
     "metadata": {},
     "output_type": "execute_result"
    }
   ],
   "source": [
    "a = np.arange(0, 40, 10)\n",
    "a"
   ],
   "metadata": {
    "collapsed": false,
    "ExecuteTime": {
     "end_time": "2023-12-17T16:44:07.943724Z",
     "start_time": "2023-12-17T16:44:07.936497Z"
    }
   },
   "id": "6a05a949b453710"
  },
  {
   "cell_type": "code",
   "execution_count": 98,
   "outputs": [
    {
     "data": {
      "text/plain": "array([[ 0],\n       [10],\n       [20],\n       [30]])"
     },
     "execution_count": 98,
     "metadata": {},
     "output_type": "execute_result"
    }
   ],
   "source": [
    "a = a[:, np.newaxis]\n",
    "a"
   ],
   "metadata": {
    "collapsed": false,
    "ExecuteTime": {
     "end_time": "2023-12-17T16:44:27.201524Z",
     "start_time": "2023-12-17T16:44:27.185282Z"
    }
   },
   "id": "ba900d51bb61f717"
  },
  {
   "cell_type": "code",
   "execution_count": 101,
   "outputs": [
    {
     "data": {
      "text/plain": "array([[ 0],\n       [20],\n       [40],\n       [60]])"
     },
     "execution_count": 101,
     "metadata": {},
     "output_type": "execute_result"
    }
   ],
   "source": [
    "a + b"
   ],
   "metadata": {
    "collapsed": false,
    "ExecuteTime": {
     "end_time": "2023-12-17T16:45:00.870287Z",
     "start_time": "2023-12-17T16:45:00.866167Z"
    }
   },
   "id": "c7a43948a810ed08"
  },
  {
   "cell_type": "markdown",
   "source": [
    "## Array Shape Manipulation"
   ],
   "metadata": {
    "collapsed": false
   },
   "id": "4b64b0b9b766278d"
  },
  {
   "cell_type": "code",
   "execution_count": 103,
   "outputs": [
    {
     "data": {
      "text/plain": "array([1, 2, 3, 4, 5, 6])"
     },
     "execution_count": 103,
     "metadata": {},
     "output_type": "execute_result"
    }
   ],
   "source": [
    "a = np.array([[1,2,3], [4,5,6]])\n",
    "a.ravel()"
   ],
   "metadata": {
    "collapsed": false,
    "ExecuteTime": {
     "end_time": "2023-12-17T16:46:59.408118Z",
     "start_time": "2023-12-17T16:46:59.391928Z"
    }
   },
   "id": "9b60358244e78e5e"
  },
  {
   "cell_type": "code",
   "execution_count": 106,
   "outputs": [
    {
     "data": {
      "text/plain": "array([[1, 4],\n       [2, 5],\n       [3, 6]])"
     },
     "execution_count": 106,
     "metadata": {},
     "output_type": "execute_result"
    }
   ],
   "source": [
    "a.T"
   ],
   "metadata": {
    "collapsed": false,
    "ExecuteTime": {
     "end_time": "2023-12-17T16:47:20.166631Z",
     "start_time": "2023-12-17T16:47:20.163377Z"
    }
   },
   "id": "3572ed6260568fef"
  },
  {
   "cell_type": "code",
   "execution_count": 108,
   "outputs": [
    {
     "data": {
      "text/plain": "array([[1, 2, 3],\n       [4, 5, 6]])"
     },
     "execution_count": 108,
     "metadata": {},
     "output_type": "execute_result"
    }
   ],
   "source": [
    "b = a.ravel()\n",
    "b.reshape(2,3)"
   ],
   "metadata": {
    "collapsed": false,
    "ExecuteTime": {
     "end_time": "2023-12-17T16:47:56.474272Z",
     "start_time": "2023-12-17T16:47:56.470467Z"
    }
   },
   "id": "ffe5ef2ca4398c17"
  },
  {
   "cell_type": "markdown",
   "source": [
    "## DIMENSION SUFFLING"
   ],
   "metadata": {
    "collapsed": false
   },
   "id": "b3cccb0be502e571"
  },
  {
   "cell_type": "code",
   "execution_count": 110,
   "outputs": [
    {
     "data": {
      "text/plain": "array([[[ 0,  1],\n        [ 2,  3],\n        [ 4,  5]],\n\n       [[ 6,  7],\n        [ 8,  9],\n        [10, 11]],\n\n       [[12, 13],\n        [14, 15],\n        [16, 17]],\n\n       [[18, 19],\n        [20, 21],\n        [22, 23]]])"
     },
     "execution_count": 110,
     "metadata": {},
     "output_type": "execute_result"
    }
   ],
   "source": [
    "a = np.arange(4*3*2).reshape(4,3,2)\n",
    "a"
   ],
   "metadata": {
    "collapsed": false,
    "ExecuteTime": {
     "end_time": "2023-12-17T19:01:22.858775Z",
     "start_time": "2023-12-17T19:01:22.854810Z"
    }
   },
   "id": "704095e2e1e56b6"
  },
  {
   "cell_type": "code",
   "execution_count": 120,
   "outputs": [
    {
     "data": {
      "text/plain": "5"
     },
     "execution_count": 120,
     "metadata": {},
     "output_type": "execute_result"
    }
   ],
   "source": [
    "a[0,2,1]"
   ],
   "metadata": {
    "collapsed": false,
    "ExecuteTime": {
     "end_time": "2023-12-17T19:03:01.757772Z",
     "start_time": "2023-12-17T19:03:01.754226Z"
    }
   },
   "id": "743ae6e6b3cbb655"
  },
  {
   "cell_type": "code",
   "execution_count": 128,
   "outputs": [
    {
     "ename": "ValueError",
     "evalue": "cannot resize an array that references or is referenced\nby another array in this way.\nUse the np.resize function or refcheck=False",
     "output_type": "error",
     "traceback": [
      "\u001B[0;31m---------------------------------------------------------------------------\u001B[0m",
      "\u001B[0;31mValueError\u001B[0m                                Traceback (most recent call last)",
      "Cell \u001B[0;32mIn[128], line 3\u001B[0m\n\u001B[1;32m      1\u001B[0m a \u001B[38;5;241m=\u001B[39m np\u001B[38;5;241m.\u001B[39marange(\u001B[38;5;241m4\u001B[39m)\n\u001B[1;32m      2\u001B[0m b\u001B[38;5;241m=\u001B[39ma\n\u001B[0;32m----> 3\u001B[0m a\u001B[38;5;241m.\u001B[39mresize((\u001B[38;5;241m8\u001B[39m,))\n\u001B[1;32m      4\u001B[0m a\n",
      "\u001B[0;31mValueError\u001B[0m: cannot resize an array that references or is referenced\nby another array in this way.\nUse the np.resize function or refcheck=False"
     ]
    }
   ],
   "source": [
    "a = np.arange(4)\n",
    "b=a\n",
    "a.resize((8,))\n",
    "a"
   ],
   "metadata": {
    "collapsed": false,
    "ExecuteTime": {
     "end_time": "2023-12-17T19:04:55.816312Z",
     "start_time": "2023-12-17T19:04:55.801514Z"
    }
   },
   "id": "e18099c3a919fe3f"
  },
  {
   "cell_type": "code",
   "execution_count": 129,
   "outputs": [],
   "source": [
    "b = np.sort(a)"
   ],
   "metadata": {
    "collapsed": false,
    "ExecuteTime": {
     "end_time": "2023-12-17T19:05:36.621726Z",
     "start_time": "2023-12-17T19:05:36.604669Z"
    }
   },
   "id": "1769e3ed9f8d3f7d"
  }
 ],
 "metadata": {
  "kernelspec": {
   "display_name": "Python 3",
   "language": "python",
   "name": "python3"
  },
  "language_info": {
   "codemirror_mode": {
    "name": "ipython",
    "version": 2
   },
   "file_extension": ".py",
   "mimetype": "text/x-python",
   "name": "python",
   "nbconvert_exporter": "python",
   "pygments_lexer": "ipython2",
   "version": "2.7.6"
  }
 },
 "nbformat": 4,
 "nbformat_minor": 5
}
