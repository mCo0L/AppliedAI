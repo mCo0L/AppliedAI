{
 "cells": [
  {
   "cell_type": "markdown",
   "source": [
    "# *Numpy*"
   ],
   "metadata": {
    "collapsed": false
   },
   "id": "f855c1ec1a44514c"
  },
  {
   "cell_type": "code",
   "execution_count": 2,
   "outputs": [],
   "source": [
    "import numpy as np"
   ],
   "metadata": {
    "collapsed": false,
    "ExecuteTime": {
     "end_time": "2023-12-14T11:19:14.193345Z",
     "start_time": "2023-12-14T11:19:14.093167Z"
    }
   },
   "id": "a706ee3190f0fc80"
  },
  {
   "cell_type": "markdown",
   "source": [
    "## Compare numpy array with python list"
   ],
   "metadata": {
    "collapsed": false
   },
   "id": "6c00c290088d7e20"
  },
  {
   "cell_type": "code",
   "execution_count": 3,
   "outputs": [
    {
     "name": "stdout",
     "output_type": "stream",
     "text": [
      "34.3 µs ± 142 ns per loop (mean ± std. dev. of 7 runs, 10,000 loops each)\n"
     ]
    }
   ],
   "source": [
    "#python list\n",
    "%timeit [i**2 for i in range(1000)]"
   ],
   "metadata": {
    "collapsed": false,
    "ExecuteTime": {
     "end_time": "2023-12-14T11:19:17.016643Z",
     "start_time": "2023-12-14T11:19:14.178612Z"
    }
   },
   "id": "6a47e93eb9e4b6f"
  },
  {
   "cell_type": "code",
   "execution_count": 4,
   "outputs": [
    {
     "name": "stdout",
     "output_type": "stream",
     "text": [
      "709 ns ± 2.71 ns per loop (mean ± std. dev. of 7 runs, 1,000,000 loops each)\n"
     ]
    }
   ],
   "source": [
    "#Numpy array\n",
    "arr = np.arange(1000)\n",
    "%timeit arr**2"
   ],
   "metadata": {
    "collapsed": false,
    "ExecuteTime": {
     "end_time": "2023-12-14T11:19:22.771902Z",
     "start_time": "2023-12-14T11:19:17.014550Z"
    }
   },
   "id": "afaf59f748da1b"
  },
  {
   "cell_type": "code",
   "execution_count": 5,
   "outputs": [
    {
     "data": {
      "text/plain": "array([1, 3, 5, 7, 9])"
     },
     "execution_count": 5,
     "metadata": {},
     "output_type": "execute_result"
    }
   ],
   "source": [
    "np.arange(1, 10, 2)"
   ],
   "metadata": {
    "collapsed": false,
    "ExecuteTime": {
     "end_time": "2023-12-14T11:19:22.779506Z",
     "start_time": "2023-12-14T11:19:22.770842Z"
    }
   },
   "id": "2f62da0de183eee3"
  },
  {
   "cell_type": "markdown",
   "source": [
    "## Creating a Array"
   ],
   "metadata": {
    "collapsed": false
   },
   "id": "14f08715431c37bc"
  },
  {
   "cell_type": "code",
   "execution_count": 6,
   "outputs": [
    {
     "data": {
      "text/plain": "array([1, 2, 3, 4, 5])"
     },
     "execution_count": 6,
     "metadata": {},
     "output_type": "execute_result"
    }
   ],
   "source": [
    "np.array([1,2,3,4,5])"
   ],
   "metadata": {
    "collapsed": false,
    "ExecuteTime": {
     "end_time": "2023-12-14T11:19:22.779948Z",
     "start_time": "2023-12-14T11:19:22.774897Z"
    }
   },
   "id": "33ed1fcf3c82931c"
  },
  {
   "cell_type": "code",
   "execution_count": 7,
   "outputs": [
    {
     "data": {
      "text/plain": "array([0, 1, 2, 3, 4, 5, 6, 7, 8, 9])"
     },
     "execution_count": 7,
     "metadata": {},
     "output_type": "execute_result"
    }
   ],
   "source": [
    "np.arange(10)"
   ],
   "metadata": {
    "collapsed": false,
    "ExecuteTime": {
     "end_time": "2023-12-14T11:19:22.780837Z",
     "start_time": "2023-12-14T11:19:22.777725Z"
    }
   },
   "id": "a43df0aaab5c4cc2"
  },
  {
   "cell_type": "code",
   "execution_count": 8,
   "outputs": [
    {
     "data": {
      "text/plain": "array([1, 3, 5, 7, 9])"
     },
     "execution_count": 8,
     "metadata": {},
     "output_type": "execute_result"
    }
   ],
   "source": [
    "np.arange(1, 10, 2)"
   ],
   "metadata": {
    "collapsed": false,
    "ExecuteTime": {
     "end_time": "2023-12-14T11:19:22.786628Z",
     "start_time": "2023-12-14T11:19:22.780517Z"
    }
   },
   "id": "a9aaa6dcb251c97b"
  },
  {
   "cell_type": "code",
   "execution_count": 8,
   "outputs": [],
   "source": [],
   "metadata": {
    "collapsed": false,
    "ExecuteTime": {
     "end_time": "2023-12-14T11:19:22.787052Z",
     "start_time": "2023-12-14T11:19:22.783140Z"
    }
   },
   "id": "ff0bf22d5ffee8ba"
  },
  {
   "cell_type": "markdown",
   "source": [
    "### 2D array"
   ],
   "metadata": {
    "collapsed": false
   },
   "id": "8a8f2be795efa529"
  },
  {
   "cell_type": "code",
   "execution_count": 9,
   "outputs": [
    {
     "name": "stdout",
     "output_type": "stream",
     "text": [
      "[[1 2 3]\n",
      " [4 5 6]\n",
      " [7 8 9]]\n"
     ]
    }
   ],
   "source": [
    "arr = np.array([[1, 2, 3], [4, 5, 6], [7, 8, 9]])\n",
    "print(arr)"
   ],
   "metadata": {
    "collapsed": false,
    "ExecuteTime": {
     "end_time": "2023-12-14T11:19:22.791918Z",
     "start_time": "2023-12-14T11:19:22.785841Z"
    }
   },
   "id": "bdbfa95d4c50bdd3"
  },
  {
   "cell_type": "code",
   "execution_count": 10,
   "outputs": [
    {
     "data": {
      "text/plain": "2"
     },
     "execution_count": 10,
     "metadata": {},
     "output_type": "execute_result"
    }
   ],
   "source": [
    "#dimension\n",
    "arr.ndim"
   ],
   "metadata": {
    "collapsed": false,
    "ExecuteTime": {
     "end_time": "2023-12-14T11:19:22.824363Z",
     "start_time": "2023-12-14T11:19:22.788740Z"
    }
   },
   "id": "8da9898d6342d3d8"
  },
  {
   "cell_type": "code",
   "execution_count": 11,
   "outputs": [
    {
     "data": {
      "text/plain": "(3, 3)"
     },
     "execution_count": 11,
     "metadata": {},
     "output_type": "execute_result"
    }
   ],
   "source": [
    "#shape\n",
    "arr.shape"
   ],
   "metadata": {
    "collapsed": false,
    "ExecuteTime": {
     "end_time": "2023-12-14T11:19:22.825257Z",
     "start_time": "2023-12-14T11:19:22.792815Z"
    }
   },
   "id": "68dbeffae1fdc506"
  },
  {
   "cell_type": "code",
   "execution_count": 13,
   "outputs": [
    {
     "data": {
      "text/plain": "3"
     },
     "execution_count": 13,
     "metadata": {},
     "output_type": "execute_result"
    }
   ],
   "source": [
    "len(arr)"
   ],
   "metadata": {
    "collapsed": false,
    "ExecuteTime": {
     "end_time": "2023-12-14T11:19:46.956299Z",
     "start_time": "2023-12-14T11:19:46.950087Z"
    }
   },
   "id": "3e74088bedd5ea3b"
  },
  {
   "cell_type": "code",
   "execution_count": 15,
   "outputs": [
    {
     "data": {
      "text/plain": "array([[1., 1., 1.],\n       [1., 1., 1.],\n       [1., 1., 1.]])"
     },
     "execution_count": 15,
     "metadata": {},
     "output_type": "execute_result"
    }
   ],
   "source": [
    "np.ones((3,3))"
   ],
   "metadata": {
    "collapsed": false,
    "ExecuteTime": {
     "end_time": "2023-12-14T11:46:18.867635Z",
     "start_time": "2023-12-14T11:46:18.862434Z"
    }
   },
   "id": "622006ead816fbce"
  },
  {
   "cell_type": "code",
   "execution_count": 20,
   "outputs": [
    {
     "data": {
      "text/plain": "array([[0., 0., 0.],\n       [0., 0., 0.],\n       [0., 0., 0.]])"
     },
     "execution_count": 20,
     "metadata": {},
     "output_type": "execute_result"
    }
   ],
   "source": [
    "np.zeros((3,3))"
   ],
   "metadata": {
    "collapsed": false,
    "ExecuteTime": {
     "end_time": "2023-12-14T11:46:58.825745Z",
     "start_time": "2023-12-14T11:46:58.821669Z"
    }
   },
   "id": "969631078826491c"
  },
  {
   "cell_type": "code",
   "execution_count": 22,
   "outputs": [
    {
     "data": {
      "text/plain": "array([[1., 0., 0.],\n       [0., 1., 0.],\n       [0., 0., 1.]])"
     },
     "execution_count": 22,
     "metadata": {},
     "output_type": "execute_result"
    }
   ],
   "source": [
    "np.eye(3)"
   ],
   "metadata": {
    "collapsed": false,
    "ExecuteTime": {
     "end_time": "2023-12-14T11:47:18.207655Z",
     "start_time": "2023-12-14T11:47:18.201711Z"
    }
   },
   "id": "65be476d428231f5"
  },
  {
   "cell_type": "code",
   "execution_count": 27,
   "outputs": [
    {
     "data": {
      "text/plain": "array([[1., 0., 0., 0.],\n       [0., 1., 0., 0.],\n       [0., 0., 1., 0.],\n       [0., 0., 0., 1.]])"
     },
     "execution_count": 27,
     "metadata": {},
     "output_type": "execute_result"
    }
   ],
   "source": [
    "np.eye(4)"
   ],
   "metadata": {
    "collapsed": false,
    "ExecuteTime": {
     "end_time": "2023-12-14T11:49:23.361091Z",
     "start_time": "2023-12-14T11:49:23.354171Z"
    }
   },
   "id": "f6d6cd6a95ce138d"
  },
  {
   "cell_type": "code",
   "execution_count": 30,
   "outputs": [
    {
     "data": {
      "text/plain": "array([[1., 0.],\n       [0., 1.],\n       [0., 0.],\n       [0., 0.]])"
     },
     "execution_count": 30,
     "metadata": {},
     "output_type": "execute_result"
    }
   ],
   "source": [
    "np.eye(4,2)"
   ],
   "metadata": {
    "collapsed": false,
    "ExecuteTime": {
     "end_time": "2023-12-14T11:49:48.062344Z",
     "start_time": "2023-12-14T11:49:48.053990Z"
    }
   },
   "id": "cc78b168d43a07ca"
  },
  {
   "cell_type": "code",
   "execution_count": 31,
   "outputs": [
    {
     "data": {
      "text/plain": "array([[1, 0, 0, 0, 0],\n       [0, 2, 0, 0, 0],\n       [0, 0, 3, 0, 0],\n       [0, 0, 0, 4, 0],\n       [0, 0, 0, 0, 5]])"
     },
     "execution_count": 31,
     "metadata": {},
     "output_type": "execute_result"
    }
   ],
   "source": [
    "np.diag([1,2,3,4,5])"
   ],
   "metadata": {
    "collapsed": false,
    "ExecuteTime": {
     "end_time": "2023-12-14T12:42:47.911936Z",
     "start_time": "2023-12-14T12:42:47.906429Z"
    }
   },
   "id": "21646ff30e151104"
  },
  {
   "cell_type": "code",
   "execution_count": 35,
   "outputs": [
    {
     "data": {
      "text/plain": "array([0.38304127, 0.65677321, 0.26167343, 0.71458994, 0.75946338])"
     },
     "execution_count": 35,
     "metadata": {},
     "output_type": "execute_result"
    }
   ],
   "source": [
    "np.random.rand(5)"
   ],
   "metadata": {
    "collapsed": false,
    "ExecuteTime": {
     "end_time": "2023-12-14T12:43:20.240488Z",
     "start_time": "2023-12-14T12:43:20.236296Z"
    }
   },
   "id": "e38aa3ac7f27b05d"
  },
  {
   "cell_type": "code",
   "execution_count": 36,
   "outputs": [
    {
     "data": {
      "text/plain": "array([ 0.30059588, -1.35979275, -0.82305316, -1.511542  ])"
     },
     "execution_count": 36,
     "metadata": {},
     "output_type": "execute_result"
    }
   ],
   "source": [
    "np.random.randn(4)"
   ],
   "metadata": {
    "collapsed": false,
    "ExecuteTime": {
     "end_time": "2023-12-14T12:43:40.298282Z",
     "start_time": "2023-12-14T12:43:40.295024Z"
    }
   },
   "id": "23bd52ff07bd4aa4"
  },
  {
   "cell_type": "code",
   "execution_count": 73,
   "outputs": [
    {
     "data": {
      "text/plain": "14"
     },
     "execution_count": 73,
     "metadata": {},
     "output_type": "execute_result"
    }
   ],
   "source": [
    "np.random.randint(100)"
   ],
   "metadata": {
    "collapsed": false,
    "ExecuteTime": {
     "end_time": "2023-12-14T15:34:06.343469Z",
     "start_time": "2023-12-14T15:34:06.336996Z"
    }
   },
   "id": "853d6cbb047c5865"
  },
  {
   "cell_type": "markdown",
   "source": [
    "## Slicing"
   ],
   "metadata": {
    "collapsed": false
   },
   "id": "46994a44f825e184"
  },
  {
   "cell_type": "code",
   "execution_count": 78,
   "outputs": [],
   "source": [
    "a = np.arange(11)"
   ],
   "metadata": {
    "collapsed": false,
    "ExecuteTime": {
     "end_time": "2023-12-14T15:35:40.269455Z",
     "start_time": "2023-12-14T15:35:40.262379Z"
    }
   },
   "id": "8c4b561519ff8b3e"
  },
  {
   "cell_type": "code",
   "execution_count": 82,
   "outputs": [
    {
     "data": {
      "text/plain": "array([0, 2, 4, 6, 8])"
     },
     "execution_count": 82,
     "metadata": {},
     "output_type": "execute_result"
    }
   ],
   "source": [
    "a[0:10:2]"
   ],
   "metadata": {
    "collapsed": false,
    "ExecuteTime": {
     "end_time": "2023-12-14T15:36:17.033209Z",
     "start_time": "2023-12-14T15:36:17.026548Z"
    }
   },
   "id": "54d540989300f275"
  },
  {
   "cell_type": "code",
   "execution_count": 83,
   "outputs": [
    {
     "data": {
      "text/plain": "array([ 5,  6,  7,  8,  9, 10])"
     },
     "execution_count": 83,
     "metadata": {},
     "output_type": "execute_result"
    }
   ],
   "source": [
    "a[5:]"
   ],
   "metadata": {
    "collapsed": false,
    "ExecuteTime": {
     "end_time": "2023-12-14T15:43:12.515473Z",
     "start_time": "2023-12-14T15:43:12.512611Z"
    }
   },
   "id": "3ccd708b4c81a54c"
  },
  {
   "cell_type": "code",
   "execution_count": 84,
   "outputs": [],
   "source": [
    "b = a[:5]"
   ],
   "metadata": {
    "collapsed": false,
    "ExecuteTime": {
     "end_time": "2023-12-14T16:09:13.262382Z",
     "start_time": "2023-12-14T16:09:13.255497Z"
    }
   },
   "id": "4c180d702b540515"
  },
  {
   "cell_type": "code",
   "execution_count": 85,
   "outputs": [
    {
     "data": {
      "text/plain": "array([0, 1, 2, 3, 4])"
     },
     "execution_count": 85,
     "metadata": {},
     "output_type": "execute_result"
    }
   ],
   "source": [
    "b"
   ],
   "metadata": {
    "collapsed": false,
    "ExecuteTime": {
     "end_time": "2023-12-14T16:09:18.716099Z",
     "start_time": "2023-12-14T16:09:18.707502Z"
    }
   },
   "id": "7fddd63786b6bf79"
  },
  {
   "cell_type": "code",
   "execution_count": 88,
   "outputs": [],
   "source": [
    "b[0] = 99"
   ],
   "metadata": {
    "collapsed": false,
    "ExecuteTime": {
     "end_time": "2023-12-14T16:09:47.325695Z",
     "start_time": "2023-12-14T16:09:47.317700Z"
    }
   },
   "id": "5a3d681cde470494"
  },
  {
   "cell_type": "code",
   "execution_count": 89,
   "outputs": [
    {
     "data": {
      "text/plain": "array([99,  1,  2,  3,  4,  5,  6,  7,  8,  9, 10])"
     },
     "execution_count": 89,
     "metadata": {},
     "output_type": "execute_result"
    }
   ],
   "source": [
    "a"
   ],
   "metadata": {
    "collapsed": false,
    "ExecuteTime": {
     "end_time": "2023-12-14T16:09:49.446925Z",
     "start_time": "2023-12-14T16:09:49.438208Z"
    }
   },
   "id": "f9c9c17538ea71f0"
  },
  {
   "cell_type": "code",
   "execution_count": 91,
   "outputs": [
    {
     "data": {
      "text/plain": "True"
     },
     "execution_count": 91,
     "metadata": {},
     "output_type": "execute_result"
    }
   ],
   "source": [
    "np.shares_memory(a, b)"
   ],
   "metadata": {
    "collapsed": false,
    "ExecuteTime": {
     "end_time": "2023-12-14T16:11:48.144227Z",
     "start_time": "2023-12-14T16:11:48.136816Z"
    }
   },
   "id": "8439ab2a16d7bbf1"
  },
  {
   "cell_type": "code",
   "execution_count": 92,
   "outputs": [],
   "source": [
    "a = np.arange(10)"
   ],
   "metadata": {
    "collapsed": false,
    "ExecuteTime": {
     "end_time": "2023-12-14T16:12:03.937933Z",
     "start_time": "2023-12-14T16:12:03.930545Z"
    }
   },
   "id": "d4891126a7c6e74d"
  },
  {
   "cell_type": "code",
   "execution_count": 93,
   "outputs": [],
   "source": [
    "b = a[:5].copy()"
   ],
   "metadata": {
    "collapsed": false,
    "ExecuteTime": {
     "end_time": "2023-12-14T16:12:47.264550Z",
     "start_time": "2023-12-14T16:12:47.257417Z"
    }
   },
   "id": "acd46dffd602a534"
  },
  {
   "cell_type": "markdown",
   "source": [
    "## Using mask"
   ],
   "metadata": {
    "collapsed": false
   },
   "id": "880164f7e1844d8b"
  },
  {
   "cell_type": "code",
   "execution_count": 94,
   "outputs": [],
   "source": [
    "a = np.arange(10)"
   ],
   "metadata": {
    "collapsed": false,
    "ExecuteTime": {
     "end_time": "2023-12-14T17:02:49.681231Z",
     "start_time": "2023-12-14T17:02:49.666708Z"
    }
   },
   "id": "5e0154943602d21a"
  },
  {
   "cell_type": "code",
   "execution_count": 95,
   "outputs": [],
   "source": [
    "mask = (a % 2 == 0)"
   ],
   "metadata": {
    "collapsed": false,
    "ExecuteTime": {
     "end_time": "2023-12-14T17:03:51.798455Z",
     "start_time": "2023-12-14T17:03:51.787862Z"
    }
   },
   "id": "edfc7fa839000e01"
  },
  {
   "cell_type": "code",
   "execution_count": 96,
   "outputs": [
    {
     "data": {
      "text/plain": "array([0, 2, 4, 6, 8])"
     },
     "execution_count": 96,
     "metadata": {},
     "output_type": "execute_result"
    }
   ],
   "source": [
    "a[mask]"
   ],
   "metadata": {
    "collapsed": false,
    "ExecuteTime": {
     "end_time": "2023-12-14T17:04:08.843851Z",
     "start_time": "2023-12-14T17:04:08.837175Z"
    }
   },
   "id": "6267f0dc4a1b65b"
  },
  {
   "cell_type": "code",
   "execution_count": 97,
   "outputs": [],
   "source": [
    "a[mask] = -1"
   ],
   "metadata": {
    "collapsed": false,
    "ExecuteTime": {
     "end_time": "2023-12-14T17:04:26.495012Z",
     "start_time": "2023-12-14T17:04:26.491162Z"
    }
   },
   "id": "ff5cf55450fd60dd"
  },
  {
   "cell_type": "code",
   "execution_count": 98,
   "outputs": [
    {
     "data": {
      "text/plain": "array([-1,  1, -1,  3, -1,  5, -1,  7, -1,  9])"
     },
     "execution_count": 98,
     "metadata": {},
     "output_type": "execute_result"
    }
   ],
   "source": [
    "a"
   ],
   "metadata": {
    "collapsed": false,
    "ExecuteTime": {
     "end_time": "2023-12-14T17:04:33.421686Z",
     "start_time": "2023-12-14T17:04:33.416474Z"
    }
   },
   "id": "1d41a6096702e266"
  },
  {
   "cell_type": "code",
   "execution_count": null,
   "outputs": [],
   "source": [],
   "metadata": {
    "collapsed": false,
    "ExecuteTime": {
     "end_time": "2023-12-15T15:13:38.050879Z",
     "start_time": "2023-12-15T15:13:38.044833Z"
    }
   },
   "id": "862c1108ce361e2"
  }
 ],
 "metadata": {
  "kernelspec": {
   "display_name": "Python 3",
   "language": "python",
   "name": "python3"
  },
  "language_info": {
   "codemirror_mode": {
    "name": "ipython",
    "version": 2
   },
   "file_extension": ".py",
   "mimetype": "text/x-python",
   "name": "python",
   "nbconvert_exporter": "python",
   "pygments_lexer": "ipython2",
   "version": "2.7.6"
  }
 },
 "nbformat": 4,
 "nbformat_minor": 5
}
